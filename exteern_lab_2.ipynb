{
  "nbformat": 4,
  "nbformat_minor": 0,
  "metadata": {
    "colab": {
      "provenance": [],
      "authorship_tag": "ABX9TyNJ5w+WlZ+xOdCjG8vWqOj/",
      "include_colab_link": true
    },
    "kernelspec": {
      "name": "python3",
      "display_name": "Python 3"
    },
    "language_info": {
      "name": "python"
    }
  },
  "cells": [
    {
      "cell_type": "markdown",
      "metadata": {
        "id": "view-in-github",
        "colab_type": "text"
      },
      "source": [
        "<a href=\"https://colab.research.google.com/github/mhacc001/Python/blob/main/exteern_lab_2.ipynb\" target=\"_parent\"><img src=\"https://colab.research.google.com/assets/colab-badge.svg\" alt=\"Open In Colab\"/></a>"
      ]
    },
    {
      "cell_type": "code",
      "execution_count": 10,
      "metadata": {
        "colab": {
          "base_uri": "https://localhost:8080/"
        },
        "id": "OQdYpP-ZgnK5",
        "outputId": "8523ae51-5e1a-4343-98f4-9ce84a521987"
      },
      "outputs": [
        {
          "output_type": "stream",
          "name": "stdout",
          "text": [
            "DataFrame loaded successfully from JSON:\n",
            "   customer_id  order_id     product  quantity  total\n",
            "0          101      5001      Laptop         1  120.5\n",
            "1          101      5001       Mouse         1  120.5\n",
            "2          102      5002  Smartphone         1  250.0\n",
            "3          102      5002     Charger         2  250.0\n",
            "4          102      5003  Headphones         1   75.0\n",
            "\n",
            "DataFrame Info:\n",
            "<class 'pandas.core.frame.DataFrame'>\n",
            "RangeIndex: 5 entries, 0 to 4\n",
            "Data columns (total 5 columns):\n",
            " #   Column       Non-Null Count  Dtype  \n",
            "---  ------       --------------  -----  \n",
            " 0   customer_id  5 non-null      int64  \n",
            " 1   order_id     5 non-null      int64  \n",
            " 2   product      5 non-null      object \n",
            " 3   quantity     5 non-null      int64  \n",
            " 4   total        5 non-null      float64\n",
            "dtypes: float64(1), int64(3), object(1)\n",
            "memory usage: 332.0+ bytes\n"
          ]
        }
      ],
      "source": [
        "import pandas as pd\n",
        "\n",
        "# Define the filename\n",
        "file_name = 'processed_orders.json'\n",
        "\n",
        "# Load the JSON file into a Pandas DataFrame\n",
        "try:\n",
        "    df_loaded = pd.read_json(file_name)\n",
        "    print(\"DataFrame loaded successfully from JSON:\")\n",
        "    print(df_loaded.head()) # Print the first few rows to verify\n",
        "    print(\"\\nDataFrame Info:\")\n",
        "    df_loaded.info()\n",
        "except FileNotFoundError:\n",
        "    print(f\"Error: The file '{file_name}' was not found. Please ensure it is uploaded to your Colab session.\")\n",
        "except Exception as e:\n",
        "    print(f\"An error occurred: {e}\")"
      ]
    },
    {
      "cell_type": "code",
      "source": [],
      "metadata": {
        "id": "QiyrQNbLkG0d"
      },
      "execution_count": null,
      "outputs": []
    }
  ]
}