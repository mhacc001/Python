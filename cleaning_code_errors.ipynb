{
  "nbformat": 4,
  "nbformat_minor": 0,
  "metadata": {
    "colab": {
      "provenance": [],
      "authorship_tag": "ABX9TyMC+b/tZlx9+MvHQtdfymY4",
      "include_colab_link": true
    },
    "kernelspec": {
      "name": "python3",
      "display_name": "Python 3"
    },
    "language_info": {
      "name": "python"
    }
  },
  "cells": [
    {
      "cell_type": "markdown",
      "metadata": {
        "id": "view-in-github",
        "colab_type": "text"
      },
      "source": [
        "<a href=\"https://colab.research.google.com/github/mhacc001/Python/blob/main/cleaning_code_errors.ipynb\" target=\"_parent\"><img src=\"https://colab.research.google.com/assets/colab-badge.svg\" alt=\"Open In Colab\"/></a>"
      ]
    },
    {
      "cell_type": "code",
      "execution_count": 2,
      "metadata": {
        "colab": {
          "base_uri": "https://localhost:8080/"
        },
        "id": "jNyGmCpuuvp4",
        "outputId": "d8aa03be-362e-478f-f502-dbd5f5441f46"
      },
      "outputs": [
        {
          "output_type": "stream",
          "name": "stdout",
          "text": [
            "--- Cleaned Text from text_sample.txt ---\n",
            "this is a problematic text file it contains extra spaces special characters some words are misspelleddd and encoding issues like this cause problems prices are inconsistent 2999 2999 usd 2999 emails phone numbers may be embedded repeated punctuations should be removed along with random symbols like stopwords like the is and a appear often html tags might be present this is inside a div and sometimes contractions wont expand cant wont shouldnt random numeric values 123456 98765 2024\n",
            "\n",
            "Cleaned text saved to: cleaned_text_sample.txt\n"
          ]
        }
      ],
      "source": [
        "import re\n",
        "import unicodedata\n",
        "\n",
        "# The provided messy text content structure, representing 'text_sample.txt'\n",
        "# This dictionary contains the content you want to clean.\n",
        "text_sample_data = {\n",
        "    \"type\": \"uploaded file\",\n",
        "    \"fileName\": \"text_sample.txt\",\n",
        "    \"fullContent\": \"\"\"\n",
        "[source: 1] Thís ís à próblemátic téxt fíle!! It contains    **extra spaces** ,,,,, special characters!!!💥🔥🚀\n",
        "[source: 2] Some words are misspelleddd,   and encoding  issues   liké thís cäusé problëms.\n",
        "Prices are inconsistent:  $29.99, 29.99 USD, 29,99$.\n",
        "\n",
        "Emails & phone numbers may be embedded: contact@domain.com, (123)-456-7890.\n",
        "\n",
        "[source: 3] Repeated punctuations!!!!!\n",
        "should be removed, along with **random symbols** like @@,##.\n",
        "\n",
        "stopwords like \"the\", \"is\", and \"a\" appear often.\n",
        "[source: 4] HTML tags might be present: <div>This is inside a div</div>\n",
        "\n",
        "And sometimes, contractions won't expand: \"can't\", \"won't\", \"shouldn't\".\n",
        "[source: 5] Random numeric values: 123456, 98765, 2024.\n",
        "\"\"\"\n",
        "}\n",
        "\n",
        "# Extract the full content from the provided dictionary.\n",
        "# This variable now holds the raw, messy text from 'text_sample.txt'.\n",
        "messy_text_from_sample = text_sample_data['fullContent']\n",
        "\n",
        "def clean_text(text):\n",
        "    \"\"\"\n",
        "    Cleans the input text by applying a series of text processing techniques.\n",
        "\n",
        "    Args:\n",
        "        text (str): The messy input text string.\n",
        "\n",
        "    Returns:\n",
        "        str: The cleaned and standardized text string.\n",
        "    \"\"\"\n",
        "\n",
        "    # Step 1: Remove \"[source: X]\" tags. These are specific to the provided sample format.\n",
        "    text = re.sub(r'\\[source:\\s*\\d+\\]', '', text)\n",
        "\n",
        "    # Step 2: Handle encoding issues and non-ASCII characters.\n",
        "    # unicodedata.normalize('NFKD', text) decomposes characters into their base form\n",
        "    # (e.g., 'á' becomes 'a' plus an accent).\n",
        "    # .encode('ascii', 'ignore') then removes the accent (and other non-ASCII chars like emojis).\n",
        "    # .decode('utf-8', 'ignore') converts it back to a standard string.\n",
        "    text = unicodedata.normalize('NFKD', text).encode('ascii', 'ignore').decode('utf-8', 'ignore')\n",
        "\n",
        "    # Step 3: Standardize case by converting all text to lowercase.\n",
        "    # This ensures consistency, so \"The\" and \"the\" are treated identically.\n",
        "    text = text.lower()\n",
        "\n",
        "    # Step 4: Remove HTML tags (e.g., <div>...</div>).\n",
        "    # The regex '<[^>]*>' matches any text starting with '<', followed by any characters\n",
        "    # (except '>'), and ending with '>'.\n",
        "    text = re.sub(r'<[^>]*>', '', text)\n",
        "\n",
        "    # Step 5: Remove email addresses (e.g., contact@domain.com).\n",
        "    # \\S* matches any non-whitespace character zero or more times.\n",
        "    # @ matches the literal '@' symbol.\n",
        "    # \\s? matches an optional whitespace character after the email.\n",
        "    text = re.sub(r'\\S*@\\S*\\s?', '', text)\n",
        "\n",
        "    # Step 6: Remove phone numbers (e.g., (123)-456-7890).\n",
        "    # This specific regex targets the common phone number format with parentheses and hyphens.\n",
        "    text = re.sub(r'\\(\\d{3}\\)-\\d{3}-\\d{4}', '', text)\n",
        "\n",
        "    # Step 7: Remove specific random symbols and excessive/inconsistent punctuation.\n",
        "    # This is a critical step for comprehensive cleaning.\n",
        "    # `[^a-z0-9\\s]` matches any character that is NOT a lowercase letter (a-z),\n",
        "    # a digit (0-9), or a whitespace character (\\s).\n",
        "    # This effectively removes:\n",
        "    # - Special characters like '💥🔥🚀', '@@', '##'\n",
        "    # - Excessive punctuation like '!!!!!', ',,,,,'\n",
        "    # - Currency symbols like '$'\n",
        "    # - Apostrophes from contractions (e.g., \"can't\" becomes \"cant\" after this step,\n",
        "    #   which simplifies text but means contractions are not expanded).\n",
        "    # THIS IS THE LINE THAT WAS LIKELY CAUSING YOUR ERROR BEFORE.\n",
        "    text = re.sub(r'[^a-z0-9\\s]', '', text)\n",
        "\n",
        "    # Step 8: Remove extra spaces.\n",
        "    # `\\s+` matches one or more whitespace characters (spaces, tabs, newlines).\n",
        "    # It replaces them with a single space.\n",
        "    # `.strip()` removes any leading or trailing whitespace from the entire string.\n",
        "    text = re.sub(r'\\s+', ' ', text).strip()\n",
        "\n",
        "    return text\n",
        "\n",
        "# Apply the cleaning function to the content from 'text_sample.txt'.\n",
        "cleaned_text_output = clean_text(messy_text_from_sample)\n",
        "\n",
        "# Print the cleaned text to the console.\n",
        "print(\"--- Cleaned Text from text_sample.txt ---\")\n",
        "print(cleaned_text_output)\n",
        "\n",
        "# Save the cleaned text to a new file named 'cleaned_text_sample.txt'.\n",
        "# The 'w' mode means write (create if doesn't exist, overwrite if it does).\n",
        "# encoding=\"utf-8\" ensures proper character handling.\n",
        "output_filename = \"cleaned_text_sample.txt\"\n",
        "with open(output_filename, \"w\", encoding=\"utf-8\") as f:\n",
        "    f.write(cleaned_text_output)\n",
        "\n",
        "# Confirm to the user that the file has been saved.\n",
        "print(f\"\\nCleaned text saved to: {output_filename}\")"
      ]
    }
  ]
}